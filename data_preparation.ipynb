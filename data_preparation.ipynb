{
 "cells": [
  {
   "cell_type": "markdown",
   "id": "1665d4a3fa8020e4",
   "metadata": {},
   "source": [
    "# Data Preparation"
   ]
  },
  {
   "cell_type": "markdown",
   "id": "4817a295-6fc3-431a-b589-a47e7e8abf09",
   "metadata": {},
   "source": [
    "## Import libraries"
   ]
  },
  {
   "cell_type": "code",
   "execution_count": 2,
   "id": "06109e54-fd16-4831-81df-8a9ac304d777",
   "metadata": {
    "ExecuteTime": {
     "end_time": "2025-06-26T09:55:04.618350Z",
     "start_time": "2025-06-26T09:55:04.552201Z"
    }
   },
   "outputs": [],
   "source": [
    "from langchain.document_loaders import TextLoader\n",
    "from langchain_text_splitters import RecursiveCharacterTextSplitter\n",
    "from langchain_core.documents import Document\n",
    "import os\n",
    "import csv"
   ]
  },
  {
   "cell_type": "markdown",
   "id": "c5ee838e-085b-4736-8de0-cdc54f10f06f",
   "metadata": {},
   "source": [
    "## Load the data"
   ]
  },
  {
   "cell_type": "code",
   "execution_count": 14,
   "id": "2536bbe6-8558-41b6-b435-63f9a1dff395",
   "metadata": {
    "ExecuteTime": {
     "end_time": "2025-06-26T09:55:04.618350Z",
     "start_time": "2025-06-26T09:55:04.552201Z"
    }
   },
   "outputs": [],
   "source": [
    "DATA_PATH = \"./data/TravelDataset.csv\" # Assuming your CSV is directly in this 'data' directory\n",
    "\n",
    "def read_city_information(headers, row):\n",
    "    # Combine headers with row values to create meaningful content\n",
    "    content_parts = []\n",
    "    row_data = {}\n",
    "    for header, value in zip(headers, row):\n",
    "        header_name = header.replace(\"_\", \" \")\n",
    "        content_parts.append(f\"{header_name}: {value}\")\n",
    "        row_data[header] = value # Store for easy access to city name\n",
    "    \n",
    "    page_content = \"\\n\".join(content_parts)\n",
    "    return page_content, row_data\n",
    "\n",
    "def load_and_process_csv_into_documents(file_path: str) -> list[Document]:\n",
    "    \"\"\"\n",
    "    Loads a CSV file, processes each row, and creates LangChain Document objects.\n",
    "    Each document will represent one city (row), with column names included in the content\n",
    "    and city name in metadata.\n",
    "    \"\"\"\n",
    "    documents = []\n",
    "    headers = []\n",
    "\n",
    "    with open(file_path, 'r', encoding='utf-8') as csvfile:\n",
    "        csv_reader = csv.reader(csvfile)\n",
    "\n",
    "        # Read the header row\n",
    "        try:\n",
    "            headers = next(csv_reader)\n",
    "        except StopIteration:\n",
    "            print(f\"Warning: CSV file '{file_path}' is empty.\")\n",
    "            return []\n",
    "\n",
    "        # Process each data row\n",
    "        for i, row in enumerate(csv_reader):\n",
    "            page_content, row_data = read_city_information(headers, row)\n",
    "\n",
    "            # Extract city name for metadata (assuming 'city' is one of your columns)\n",
    "            city_name = row_data.get('city', 'Unknown City')\n",
    "            document_id = row_data.get('id', None) # Assuming 'id' is a unique identifier\n",
    "\n",
    "            # Create the Document object\n",
    "            metadata = {\n",
    "                \"source_file\": os.path.basename(file_path), # Name of the CSV file\n",
    "                \"row_number\": i + 2, # +2 because of 0-indexed loop and 1-indexed header\n",
    "                \"city_name\": city_name,\n",
    "                \"document_type\": \"city_data\"\n",
    "            }\n",
    "            if document_id:\n",
    "                metadata[\"id\"] = document_id # Add the ID if it exists and is useful\n",
    "\n",
    "            doc = Document(\n",
    "                page_content=page_content,\n",
    "                metadata=metadata\n",
    "            )\n",
    "            documents.append(doc)\n",
    "\n",
    "    return documents"
   ]
  },
  {
   "cell_type": "code",
   "execution_count": 15,
   "id": "f86a2b5c-5010-49bd-b54f-1c89ea70d11a",
   "metadata": {},
   "outputs": [],
   "source": [
    "processed_documents = load_and_process_csv_into_documents(DATA_PATH)"
   ]
  },
  {
   "cell_type": "code",
   "execution_count": 16,
   "id": "db8c7e2c-f6fb-4e91-9ea6-3babe40e8647",
   "metadata": {},
   "outputs": [],
   "source": [
    "def display_documents_info(documents: list[Document], num_to_display: int = 3):\n",
    "    \"\"\"\n",
    "    Prints information about the generated documents (chunks).\n",
    "    \"\"\"\n",
    "    print(f\"Total documents (chunks) created: {len(documents)}\")\n",
    "    for i, doc in enumerate(documents):\n",
    "        if i >= num_to_display:\n",
    "            break\n",
    "        print(f\"\\n--- Chunk {i+1} ---\")\n",
    "        print(f\"Content:\\n{doc.page_content}\")\n",
    "        print(f\"Metadata: {doc.metadata}\")\n",
    "    if len(documents) > num_to_display:\n",
    "        print(f\"\\n... (displaying first {num_to_display} chunks only)\")\n"
   ]
  },
  {
   "cell_type": "code",
   "execution_count": 17,
   "id": "94ebf352645a67f9",
   "metadata": {
    "ExecuteTime": {
     "end_time": "2025-06-26T09:55:06.197982Z",
     "start_time": "2025-06-26T09:55:06.177604Z"
    },
    "scrolled": true
   },
   "outputs": [
    {
     "name": "stdout",
     "output_type": "stream",
     "text": [
      "Total documents (chunks) created: 560\n",
      "\n",
      "--- Chunk 1 ---\n",
      "Content:\n",
      "id: c54acf38-3029-496b-8c7a-8343ad82785c\n",
      "city: Milan\n",
      "country: Italy\n",
      "region: europe\n",
      "short description: Chic streets lined with fashion boutiques, historic architecture, and lively piazzas create a sophisticated yet welcoming atmosphere, perfect for leisurely exploration.\n",
      "latitude: 45.4641943\n",
      "longitude: 9.1896346\n",
      "avg temp monthly: {\"1\":{\"avg\":3.7,\"max\":7.8,\"min\":0.4},\"2\":{\"avg\":7.1,\"max\":12,\"min\":2.8},\"3\":{\"avg\":10.5,\"max\":15.5,\"min\":5.5},\"4\":{\"avg\":13.8,\"max\":18.9,\"min\":8.7},\"5\":{\"avg\":17.9,\"max\":22.5,\"min\":13.4},\"6\":{\"avg\":23.5,\"max\":28.5,\"min\":18.1},\"7\":{\"avg\":25.8,\"max\":30.8,\"min\":20.5},\"8\":{\"avg\":25.2,\"max\":30.4,\"min\":20.2},\"9\":{\"avg\":20.8,\"max\":26,\"min\":16.1},\"10\":{\"avg\":15.2,\"max\":19.6,\"min\":11.5},\"11\":{\"avg\":8.8,\"max\":12.5,\"min\":5.6},\"12\":{\"avg\":4.7,\"max\":8.2,\"min\":1.9}}\n",
      "ideal durations: [\"Short trip\",\"One week\"]\n",
      "budget level: Luxury\n",
      "culture: 5\n",
      "adventure: 2\n",
      "nature: 2\n",
      "beaches: 1\n",
      "nightlife: 4\n",
      "cuisine: 5\n",
      "wellness: 3\n",
      "urban: 5\n",
      "seclusion: 2\n",
      "Metadata: {'source_file': 'TravelDataset.csv', 'row_number': 2, 'city_name': 'Milan', 'document_type': 'city_data', 'id': 'c54acf38-3029-496b-8c7a-8343ad82785c'}\n",
      "\n",
      "--- Chunk 2 ---\n",
      "Content:\n",
      "id: 0bd12654-ed64-424e-a044-7bc574bcf078\n",
      "city: Yasawa Islands\n",
      "country: Fiji\n",
      "region: oceania\n",
      "short description: Crystal-clear waters, secluded beaches, and vibrant coral reefs create a serene paradise perfect for unwinding and immersing in natural beauty.\n",
      "latitude: -17.2909471\n",
      "longitude: 177.12578580330327\n",
      "avg temp monthly: {\"1\":{\"avg\":28,\"max\":30.8,\"min\":25.8},\"2\":{\"avg\":28,\"max\":31.1,\"min\":25.6},\"3\":{\"avg\":26.9,\"max\":31,\"min\":22.8},\"4\":{\"avg\":28,\"max\":31.7,\"min\":26},\"5\":{\"avg\":27.4,\"max\":31,\"min\":23.1},\"6\":{\"avg\":26.2,\"max\":29.7,\"min\":23.7},\"7\":{\"avg\":26.1,\"max\":29.6,\"min\":23.6},\"8\":{\"avg\":25.5,\"max\":29.1,\"min\":23.7},\"9\":{\"avg\":26.3,\"max\":30.4,\"min\":24.5},\"10\":{\"avg\":26,\"max\":30.5,\"min\":19},\"11\":{\"avg\":27.1,\"max\":31,\"min\":24.8},\"12\":{\"avg\":28.2,\"max\":31.9,\"min\":26}}\n",
      "ideal durations: [\"Long trip\",\"One week\"]\n",
      "budget level: Luxury\n",
      "culture: 2\n",
      "adventure: 4\n",
      "nature: 5\n",
      "beaches: 5\n",
      "nightlife: 2\n",
      "cuisine: 3\n",
      "wellness: 4\n",
      "urban: 1\n",
      "seclusion: 5\n",
      "Metadata: {'source_file': 'TravelDataset.csv', 'row_number': 3, 'city_name': 'Yasawa Islands', 'document_type': 'city_data', 'id': '0bd12654-ed64-424e-a044-7bc574bcf078'}\n",
      "\n",
      "--- Chunk 3 ---\n",
      "Content:\n",
      "id: 73036cda-9134-46fc-a2c6-807782d59dfb\n",
      "city: Whistler\n",
      "country: Canada\n",
      "region: north_america\n",
      "short description: Snow-capped peaks and lush forests create a serene escape, where outdoor adventures meet cozy village vibes and crisp mountain air.\n",
      "latitude: 50.1171903\n",
      "longitude: -122.9543022\n",
      "avg temp monthly: {\"1\":{\"avg\":-2.5,\"max\":0.4,\"min\":-5.5},\"2\":{\"avg\":-1.8,\"max\":0.8,\"min\":-7.2},\"3\":{\"avg\":0.2,\"max\":3.5,\"min\":-5},\"4\":{\"avg\":4.6,\"max\":9.1,\"min\":-0.6},\"5\":{\"avg\":9,\"max\":14.4,\"min\":3.4},\"6\":{\"avg\":14.1,\"max\":18.8,\"min\":9.1},\"7\":{\"avg\":18.2,\"max\":23.2,\"min\":13},\"8\":{\"avg\":17.8,\"max\":23.3,\"min\":12.8},\"9\":{\"avg\":14.5,\"max\":19.3,\"min\":9.9},\"10\":{\"avg\":7.6,\"max\":11.6,\"min\":4.4},\"11\":{\"avg\":1.8,\"max\":5.1,\"min\":-1.6},\"12\":{\"avg\":-1.8,\"max\":0.9,\"min\":-2.5}}\n",
      "ideal durations: [\"Short trip\",\"Weekend\",\"One week\"]\n",
      "budget level: Luxury\n",
      "culture: 3\n",
      "adventure: 5\n",
      "nature: 5\n",
      "beaches: 2\n",
      "nightlife: 3\n",
      "cuisine: 3\n",
      "wellness: 4\n",
      "urban: 2\n",
      "seclusion: 4\n",
      "Metadata: {'source_file': 'TravelDataset.csv', 'row_number': 4, 'city_name': 'Whistler', 'document_type': 'city_data', 'id': '73036cda-9134-46fc-a2c6-807782d59dfb'}\n",
      "\n",
      "... (displaying first 3 chunks only)\n"
     ]
    }
   ],
   "source": [
    "display_documents_info(processed_documents, num_to_display=3)"
   ]
  },
  {
   "cell_type": "markdown",
   "id": "f3d63bfa-af89-4ce2-a66c-1e405e37b70b",
   "metadata": {},
   "source": [
    "## Create vector database"
   ]
  },
  {
   "cell_type": "code",
   "execution_count": null,
   "id": "04cc9516-c9cc-4d28-8f60-d6dff80ba569",
   "metadata": {},
   "outputs": [],
   "source": []
  }
 ],
 "metadata": {
  "kernelspec": {
   "display_name": "Python 3 (ipykernel)",
   "language": "python",
   "name": "python3"
  },
  "language_info": {
   "codemirror_mode": {
    "name": "ipython",
    "version": 3
   },
   "file_extension": ".py",
   "mimetype": "text/x-python",
   "name": "python",
   "nbconvert_exporter": "python",
   "pygments_lexer": "ipython3",
   "version": "3.10.12"
  }
 },
 "nbformat": 4,
 "nbformat_minor": 5
}
