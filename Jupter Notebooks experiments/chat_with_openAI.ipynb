{
 "cells": [
  {
   "cell_type": "markdown",
   "id": "1665d4a3fa8020e4",
   "metadata": {},
   "source": [
    "# Data Preparation"
   ]
  },
  {
   "cell_type": "markdown",
   "id": "4817a295-6fc3-431a-b589-a47e7e8abf09",
   "metadata": {},
   "source": [
    "## Import libraries"
   ]
  },
  {
   "cell_type": "code",
   "execution_count": 36,
   "id": "06109e54-fd16-4831-81df-8a9ac304d777",
   "metadata": {
    "ExecuteTime": {
     "end_time": "2025-06-26T09:55:04.618350Z",
     "start_time": "2025-06-26T09:55:04.552201Z"
    },
    "scrolled": true
   },
   "source": [
    "from langchain_text_splitters import RecursiveCharacterTextSplitter\n",
    "from langchain_core.documents import Document\n",
    "from langchain.document_loaders import TextLoader\n",
    "from langchain_openai import OpenAIEmbeddings\n",
    "from langchain_community.vectorstores import Chroma\n",
    "from langchain.prompts import ChatPromptTemplate\n",
    "from langchain_openai import ChatOpenAI\n",
    "import openai \n",
    "from dotenv import load_dotenv\n",
    "import shutil\n",
    "import os\n",
    "import csv"
   ],
   "outputs": []
  },
  {
   "cell_type": "markdown",
   "id": "c5ee838e-085b-4736-8de0-cdc54f10f06f",
   "metadata": {
    "jp-MarkdownHeadingCollapsed": true
   },
   "source": [
    "## Load the data"
   ]
  },
  {
   "cell_type": "code",
   "execution_count": 10,
   "id": "2536bbe6-8558-41b6-b435-63f9a1dff395",
   "metadata": {
    "ExecuteTime": {
     "end_time": "2025-06-26T09:55:04.618350Z",
     "start_time": "2025-06-26T09:55:04.552201Z"
    }
   },
   "source": [
    "DATA_PATH = \"./data/TravelDataset.csv\" # Assuming your CSV is directly in this 'data' directory\n",
    "\n",
    "def read_city_information(headers, row):\n",
    "    # Combine headers with row values to create meaningful content\n",
    "    content_parts = []\n",
    "    row_data = {}\n",
    "    for header, value in zip(headers, row):\n",
    "        header_name = header.replace(\"_\", \" \")\n",
    "        content_parts.append(f\"{header_name}: {value}\")\n",
    "        row_data[header] = value # Store for easy access to city name\n",
    "    \n",
    "    page_content = \"\\n\".join(content_parts)\n",
    "    return page_content, row_data\n",
    "\n",
    "def load_and_process_csv_into_documents(file_path: str) -> list[Document]:\n",
    "    \"\"\"\n",
    "    Loads a CSV file, processes each row, and creates LangChain Document objects.\n",
    "    Each document will represent one city (row), with column names included in the content\n",
    "    and city name in metadata.\n",
    "    \"\"\"\n",
    "    documents = []\n",
    "    headers = []\n",
    "\n",
    "    with open(file_path, 'r', encoding='utf-8') as csvfile:\n",
    "        csv_reader = csv.reader(csvfile)\n",
    "\n",
    "        # Read the header row\n",
    "        try:\n",
    "            headers = next(csv_reader)\n",
    "        except StopIteration:\n",
    "            print(f\"Warning: CSV file '{file_path}' is empty.\")\n",
    "            return []\n",
    "\n",
    "        # Process each data row\n",
    "        for i, row in enumerate(csv_reader):\n",
    "            page_content, row_data = read_city_information(headers, row)\n",
    "\n",
    "            # Extract city name for metadata (assuming 'city' is one of your columns)\n",
    "            city_name = row_data.get('city', 'Unknown City')\n",
    "            document_id = row_data.get('id', None) # Assuming 'id' is a unique identifier\n",
    "\n",
    "            # Create the Document object\n",
    "            metadata = {\n",
    "                \"source_file\": os.path.basename(file_path), # Name of the CSV file\n",
    "                \"row_number\": i + 2, # +2 because of 0-indexed loop and 1-indexed header\n",
    "                \"city_name\": city_name,\n",
    "                \"document_type\": \"city_data\"\n",
    "            }\n",
    "            if document_id:\n",
    "                metadata[\"id\"] = document_id # Add the ID if it exists and is useful\n",
    "\n",
    "            doc = Document(\n",
    "                page_content=page_content,\n",
    "                metadata=metadata\n",
    "            )\n",
    "            documents.append(doc)\n",
    "\n",
    "    return documents"
   ],
   "outputs": []
  },
  {
   "cell_type": "code",
   "execution_count": 11,
   "id": "f86a2b5c-5010-49bd-b54f-1c89ea70d11a",
   "metadata": {},
   "source": [
    "processed_documents = load_and_process_csv_into_documents(DATA_PATH)"
   ],
   "outputs": []
  },
  {
   "cell_type": "code",
   "execution_count": 12,
   "id": "db8c7e2c-f6fb-4e91-9ea6-3babe40e8647",
   "metadata": {},
   "source": [
    "def display_documents_info(documents: list[Document], num_to_display: int = 3):\n",
    "    \"\"\"\n",
    "    Prints information about the generated documents (chunks).\n",
    "    \"\"\"\n",
    "    print(f\"Total documents (chunks) created: {len(documents)}\")\n",
    "    for i, doc in enumerate(documents):\n",
    "        if i >= num_to_display:\n",
    "            break\n",
    "        print(f\"\\n--- Chunk {i+1} ---\")\n",
    "        print(f\"Content:\\n{doc.page_content}\")\n",
    "        print(f\"Metadata: {doc.metadata}\")\n",
    "    if len(documents) > num_to_display:\n",
    "        print(f\"\\n... (displaying first {num_to_display} chunks only)\")\n"
   ],
   "outputs": []
  },
  {
   "cell_type": "code",
   "execution_count": 13,
   "id": "94ebf352645a67f9",
   "metadata": {
    "ExecuteTime": {
     "end_time": "2025-06-26T09:55:06.197982Z",
     "start_time": "2025-06-26T09:55:06.177604Z"
    },
    "scrolled": true
   },
   "source": [
    "display_documents_info(processed_documents, num_to_display=3)"
   ],
   "outputs": []
  },
  {
   "cell_type": "markdown",
   "id": "f3d63bfa-af89-4ce2-a66c-1e405e37b70b",
   "metadata": {
    "jp-MarkdownHeadingCollapsed": true
   },
   "source": [
    "## Create vector database"
   ]
  },
  {
   "cell_type": "code",
   "execution_count": 14,
   "id": "98ec4df4-40cb-4a03-99ad-768288e37c1d",
   "metadata": {},
   "source": [
    "load_dotenv()\n",
    "openai.api_key = os.environ['OPENAI_API_KEY']"
   ],
   "outputs": []
  },
  {
   "cell_type": "code",
   "execution_count": 15,
   "id": "47c896cd-9d06-4c23-9f66-fd78fe937a36",
   "metadata": {},
   "source": [
    "embedding_model = \"text-embedding-3-small\"\n",
    "embedding_function = OpenAIEmbeddings(model=embedding_model)"
   ],
   "outputs": []
  },
  {
   "cell_type": "code",
   "execution_count": 16,
   "id": "c5c64018-a768-4843-93f2-8c08617a2b08",
   "metadata": {},
   "source": [
    "CHROMA_PATH = \"chroma\""
   ],
   "outputs": []
  },
  {
   "cell_type": "code",
   "execution_count": 17,
   "id": "63d9e53f-403f-4318-bcfe-3ac637133f87",
   "metadata": {},
   "source": [
    "# Clear the previous version of the database\n",
    "if os.path.exists(CHROMA_PATH):\n",
    "    shutil.rmtree(CHROMA_PATH)\n",
    "\n",
    "if not os.path.exists(CHROMA_PATH):\n",
    "    os.makedirs(CHROMA_PATH)"
   ],
   "outputs": []
  },
  {
   "cell_type": "code",
   "execution_count": 18,
   "id": "e87af614-9c60-44b6-b28c-bf635d3e5886",
   "metadata": {},
   "source": [
    "db = Chroma.from_documents(\n",
    "    processed_documents, embedding_function, persist_directory=CHROMA_PATH\n",
    ")\n",
    "print(f\"Saved {len(processed_documents)} documents to the database {CHROMA_PATH}\")"
   ],
   "outputs": []
  },
  {
   "cell_type": "markdown",
   "id": "20b4ddfc-5244-4730-81aa-a08c4d53129b",
   "metadata": {},
   "source": [
    "## Query relevant data"
   ]
  },
  {
   "cell_type": "code",
   "execution_count": 21,
   "id": "9b62929f-796e-4ad9-886d-6de0ce52feff",
   "metadata": {},
   "source": [
    "# load the database\n",
    "db = Chroma(persist_directory=CHROMA_PATH, embedding_function=embedding_function)"
   ],
   "outputs": []
  },
  {
   "cell_type": "code",
   "execution_count": 65,
   "id": "0fa82062-bc0a-4f60-8b45-da92aed90bfb",
   "metadata": {},
   "source": [
    "query_text = \"What are the most beautiful destinations I could travel to considering the architecture?\""
   ],
   "outputs": []
  },
  {
   "cell_type": "code",
   "execution_count": 66,
   "id": "1a89fe13-3617-4e40-b787-0e34d692ff3c",
   "metadata": {},
   "source": [
    "results = db.similarity_search_with_relevance_scores(query_text, k=3)\n"
   ],
   "outputs": []
  },
  {
   "cell_type": "code",
   "execution_count": 67,
   "id": "ce1d9971-a3a1-4a8d-bf63-0145a76638ee",
   "metadata": {
    "editable": true,
    "scrolled": true,
    "slideshow": {
     "slide_type": ""
    },
    "tags": []
   },
   "source": [
    "if len(results) == 0:\n",
    "    print(\"Unable to find any matching results\")\n",
    "else:\n",
    "    print(\"Results:\\n\")\n",
    "    for result in results:\n",
    "        print(f\"score: {result[1]}\\n, the city: {result[0]}\\n--------\\n\")"
   ],
   "outputs": []
  },
  {
   "cell_type": "markdown",
   "id": "90fd1f1d-b1d4-4d7a-b58d-b01bbd790a61",
   "metadata": {},
   "source": [
    "## Craft response"
   ]
  },
  {
   "cell_type": "code",
   "execution_count": 68,
   "id": "ac2f167a-e5e3-44a1-a4e6-f120a653ebeb",
   "metadata": {
    "editable": true,
    "slideshow": {
     "slide_type": ""
    },
    "tags": []
   },
   "source": [
    "PROMPT_TEMPLATE = \"\"\"\n",
    "Answer the following question about travelling {query} based on the following context:\n",
    "{context}\n",
    "\"\"\""
   ],
   "outputs": []
  },
  {
   "cell_type": "code",
   "execution_count": 69,
   "id": "715b563a-90d7-47e1-b9f8-8aaba171d07d",
   "metadata": {},
   "source": [
    "context_text = \"\\n\\n---\\n\\n\".join([doc.page_content for doc, _score in results])\n",
    "prompt_template = ChatPromptTemplate.from_template(PROMPT_TEMPLATE)\n",
    "prompt = prompt_template.format(query=query_text, context=context_text)"
   ],
   "outputs": []
  },
  {
   "cell_type": "code",
   "execution_count": 70,
   "id": "20f646ce-b64a-4f7b-ba04-3e177b7da34e",
   "metadata": {},
   "source": [
    "model = ChatOpenAI(model=\"gpt-4o-mini\")\n",
    "response_text = model.invoke(prompt)"
   ],
   "outputs": []
  },
  {
   "cell_type": "code",
   "execution_count": 82,
   "id": "c3526170-3f64-4a27-a29c-1593e3e7397f",
   "metadata": {},
   "source": [
    "formatted_response = f\"Response: {response_text.content}\"\n",
    "print(formatted_response)"
   ],
   "outputs": []
  },
  {
   "cell_type": "code",
   "execution_count": 87,
   "id": "a3b0fdd0-2e07-48bc-8569-68122db56251",
   "metadata": {},
   "source": [
    "sources, city_name, city_id = zip(*[(doc.metadata.get(\"source_file\", None), doc.metadata.get(\"city_name\", None), doc.metadata.get(\"id\", None)) for doc, _score in results])\n",
    "\n",
    "formatted_sources = \"Sources:\\n\" + \"\\n\".join(\n",
    "    f\"{source}, City: {city}, City_id: {city_id}\"\n",
    "    for source, city, city_id in zip(sources, city_name, city_id)\n",
    ")\n",
    "\n",
    "print(formatted_sources)"
   ],
   "outputs": []
  },
  {
   "cell_type": "code",
   "execution_count": null,
   "id": "73c2d8ac-bacb-4d8b-bf0e-e9d7cdc76ec7",
   "metadata": {},
   "source": [],
   "outputs": []
  }
 ],
 "metadata": {
  "kernelspec": {
   "display_name": "Python (myenv)",
   "language": "python",
   "name": "myenv"
  },
  "language_info": {
   "codemirror_mode": {
    "name": "ipython",
    "version": 3
   },
   "file_extension": ".py",
   "mimetype": "text/x-python",
   "name": "python",
   "nbconvert_exporter": "python",
   "pygments_lexer": "ipython3",
   "version": "3.10.12"
  }
 },
 "nbformat": 4,
 "nbformat_minor": 5
}
