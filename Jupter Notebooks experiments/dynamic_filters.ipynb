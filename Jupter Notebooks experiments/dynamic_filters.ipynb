{
 "cells": [
  {
   "cell_type": "markdown",
   "id": "c0bd785d-d313-45f5-b67c-8be66f86b0ce",
   "metadata": {
    "editable": true,
    "slideshow": {
     "slide_type": ""
    },
    "tags": []
   },
   "source": [
    "# Dynamic filters"
   ]
  },
  {
   "cell_type": "markdown",
   "id": "913819a9-60e3-4698-aa40-21828646081f",
   "metadata": {},
   "source": [
    "## Import Packages"
   ]
  },
  {
   "cell_type": "code",
   "execution_count": 1,
   "id": "3097f251-0523-41e0-be06-0f331fbc96ef",
   "metadata": {},
   "source": [
    "import pandas as pd\n",
    "from sklearn.preprocessing import LabelEncoder\n",
    "from sklearn.feature_selection import mutual_info_classif"
   ],
   "outputs": []
  },
  {
   "cell_type": "markdown",
   "id": "5453968e",
   "metadata": {},
   "source": [
    "## Import Data"
   ]
  },
  {
   "cell_type": "code",
   "execution_count": 3,
   "id": "c57cc231-8ac0-41c7-bd47-02b7d77e9325",
   "metadata": {},
   "source": [
    "df = pd.read_csv(\"../data/TravelDataset.csv\")"
   ],
   "outputs": []
  },
  {
   "cell_type": "code",
   "execution_count": 4,
   "id": "f2e4633b-7c17-4a7a-9cc6-dd60137924b1",
   "metadata": {},
   "source": [
    "df.head()"
   ],
   "outputs": []
  },
  {
   "cell_type": "code",
   "execution_count": 5,
   "id": "07afb447",
   "metadata": {},
   "source": [
    "# Convert 'ideal_durations' to individual one-hot encoded columns\n",
    "df[\"ideal_durations\"] = df[\"ideal_durations\"].apply(eval)  # if it's stored as a string\n",
    "duration_ohe = df[\"ideal_durations\"].explode().str.get_dummies().groupby(level=0).max()\n",
    "df = df.join(duration_ohe).drop(columns=[\"ideal_durations\"])"
   ],
   "outputs": []
  },
  {
   "cell_type": "code",
   "execution_count": 6,
   "id": "88ded5bc",
   "metadata": {},
   "source": [
    "df.info()"
   ],
   "outputs": []
  },
  {
   "cell_type": "code",
   "execution_count": 7,
   "id": "35044523-bbe2-4082-98e3-18e8fde8fe50",
   "metadata": {},
   "source": [
    "df.describe()"
   ],
   "outputs": []
  },
  {
   "cell_type": "code",
   "execution_count": null,
   "id": "981c8edd",
   "metadata": {},
   "source": [
    "df.to_csv(\"..data/structured_data.csv\")"
   ],
   "outputs": []
  },
  {
   "cell_type": "markdown",
   "id": "86a5e7e1",
   "metadata": {},
   "source": [
    "# Generate Dynamic Filters"
   ]
  },
  {
   "cell_type": "markdown",
   "id": "e30fc9c6",
   "metadata": {},
   "source": [
    "## Get Top Informative Features"
   ]
  },
  {
   "cell_type": "code",
   "execution_count": 95,
   "id": "ffbdb840",
   "metadata": {},
   "source": [
    "# Simulate selecting a subset of destinations\n",
    "df[\"label\"] = 0\n",
    "df.loc[df.sample(frac=0.8).index, \"label\"] = 1  # simulate \"visible\" destinations\n"
   ],
   "outputs": []
  },
  {
   "cell_type": "code",
   "execution_count": 96,
   "id": "6c915252",
   "metadata": {},
   "source": [
    "df.describe()"
   ],
   "outputs": []
  },
  {
   "cell_type": "code",
   "execution_count": 97,
   "id": "8b3e5031",
   "metadata": {},
   "source": [
    "selected_destinations = df[df[\"label\"]==1]\n",
    "selected_destinations"
   ],
   "outputs": []
  },
  {
   "cell_type": "code",
   "execution_count": null,
   "id": "120a970c",
   "metadata": {},
   "source": [
    "def get_dynamic_filters(dataframe, top_n=5):\n",
    "    df = dataframe.copy()\n",
    "\n",
    "    # Fit LabelEncoders for categorical features\n",
    "    le_budget = LabelEncoder()\n",
    "    le_region = LabelEncoder()\n",
    "    \n",
    "    df[\"budget_level_enc\"] = le_budget.fit_transform(df[\"budget_level\"])\n",
    "    df[\"region_enc\"] = le_region.fit_transform(df[\"region\"])\n",
    "\n",
    "    # Features to evaluate\n",
    "    feature_cols = [\n",
    "        \"Day trip\", \"Long trip\", \"Short trip\", \"One week\", \"Weekend\",\n",
    "        \"culture\", \"adventure\", \"nature\", \"beaches\", \"nightlife\",\n",
    "        \"cuisine\", \"wellness\", \"urban\", \"seclusion\", \n",
    "        \"region_enc\", \"budget_level_enc\"\n",
    "    ]\n",
    "\n",
    "    # Map encoders\n",
    "    label_encoders = {\n",
    "        \"budget_level_enc\": le_budget,\n",
    "        \"region_enc\": le_region,\n",
    "    }\n",
    "\n",
    "    X = df[feature_cols]\n",
    "    y = df[\"label\"]\n",
    "    selected = df[df[\"label\"] == 1]\n",
    "\n",
    "    info_gains = mutual_info_classif(X, y, discrete_features='auto')\n",
    "\n",
    "    # Generate readable unique values\n",
    "    unique_values = []\n",
    "    for col in feature_cols:\n",
    "        values = selected[col].unique()\n",
    "        if col in label_encoders:\n",
    "            encoder = label_encoders[col]\n",
    "            decoded = encoder.inverse_transform(values)\n",
    "            unique_values.append(list(decoded))\n",
    "        else:\n",
    "            # Keep raw values for binary or numeric features\n",
    "            unique_values.append(list(values))\n",
    "\n",
    "    # Build final result\n",
    "    gain_df = pd.DataFrame({\n",
    "        \"feature\": feature_cols,\n",
    "        \"info_gain\": info_gains,\n",
    "        \"unique_values\": unique_values\n",
    "    })\n",
    "\n",
    "    gain_df = gain_df.sort_values(by=\"info_gain\", ascending=False)\n",
    "    return gain_df.head(top_n)\n"
   ],
   "outputs": []
  },
  {
   "cell_type": "code",
   "execution_count": 191,
   "id": "efbdd539",
   "metadata": {},
   "source": [
    "top_features_df = get_dynamic_filters(selected_destinations,5)\n",
    "print(top_features_df)"
   ],
   "outputs": []
  },
  {
   "cell_type": "markdown",
   "id": "1a548671",
   "metadata": {},
   "source": [
    "## Generate Filters"
   ]
  },
  {
   "cell_type": "code",
   "execution_count": 192,
   "id": "5ba8bd7c",
   "metadata": {},
   "source": [
    "import os\n",
    "import pandas as pd\n",
    "from sklearn.feature_selection import mutual_info_classif\n",
    "from sklearn.preprocessing import LabelEncoder\n",
    "from langchain.chat_models import ChatOpenAI\n",
    "from langchain.schema import HumanMessage\n",
    "from dotenv import load_dotenv\n",
    "from langchain_openai import ChatOpenAI\n",
    "import openai \n",
    "from langchain.prompts import ChatPromptTemplate\n",
    "from openai import OpenAI\n",
    "from pydantic import BaseModel\n",
    "from typing import List, Literal, Optional\n"
   ],
   "outputs": []
  },
  {
   "cell_type": "code",
   "execution_count": 193,
   "id": "75f7ba41",
   "metadata": {},
   "source": [
    "\n",
    "client = OpenAI()\n"
   ],
   "outputs": []
  },
  {
   "cell_type": "code",
   "execution_count": 194,
   "id": "7737063a",
   "metadata": {},
   "source": [
    "load_dotenv()\n",
    "openai.api_key = os.environ['OPENAI_API_KEY']"
   ],
   "outputs": []
  },
  {
   "cell_type": "code",
   "execution_count": 195,
   "id": "9fb1eca9",
   "metadata": {},
   "source": [
    "def format_features(top_features_df):\n",
    "    feature_info = []\n",
    "    for _, row in top_features_df.iterrows():\n",
    "        feature = row[\"feature\"]\n",
    "        values = row[\"unique_values\"]\n",
    "        feature_info.append(f\"Feature name:'{feature}'. Feature values: {values}\")\n",
    "    return feature_info"
   ],
   "outputs": []
  },
  {
   "cell_type": "code",
   "execution_count": null,
   "id": "9423018e",
   "metadata": {},
   "source": [
    "class FilterSuggestion(BaseModel):\n",
    "    question: str\n",
    "    feature: str\n",
    "    type: Literal[\"binary\", \"categorical\"]\n",
    "    values: List[str]\n",
    "    value_meanings: Optional[dict[str, str]]\n",
    "\n",
    "class FilterSuggestions(BaseModel):\n",
    "    filters: List[FilterSuggestion]"
   ],
   "outputs": []
  },
  {
   "cell_type": "code",
   "execution_count": 219,
   "id": "5c57aba1",
   "metadata": {},
   "source": [
    "PROMPT_TEMPLATE = \"\"\"\n",
    "You are a travel assistant that creates filter questions for a travel destination recommendation system.\n",
    "\n",
    "Each feature in the dataset has a list of unique values:\n",
    "- Some features are binary (e.g., [0, 1]) and represent yes/no preferences.\n",
    "- Others are categorical with multiple values (e.g., [1, 2, 3, 4, 5]), representing intensity or levels of interest.\n",
    "\n",
    "Your task:\n",
    "1. Identify the type of each feature (`binary` or `categorical`).\n",
    "2. For each, create a meaningful **filter question** in natural language.\n",
    "3. For binary: map 0 → No, 1 → Yes\n",
    "4. For categorical: assume values range from 1 (low) to 5 (high) and explain meanings if possible.\n",
    "5. Define the value_meanings in the following format: \"1: 'Minimal seclusion', 2: 'Some seclusion', 3: 'Moderate seclusion', 4: 'High seclusion', 5: 'Very high seclusion'\"\n",
    "6. Return 5 filters.\n",
    "\n",
    "Here are the features and their relevant values:\n",
    "{feature_info}\n",
    "\n",
    "You must output a list of JSON-like objects using the exact structure below, one per feature.\n",
    "\n",
    "Do not include any extra text, explanations, or commentary.\n",
    "\n",
    "Each object must include all the following fields and **no field can be null or missing**:\n",
    "\n",
    "- feature_name (str): The name of the feature.\n",
    "- value_meanings (dict[str, str]): A mapping of each unique feature value to a human-readable description. You must provide a description for each value - they must never be 'None', empty, or partially filled.\n",
    "\n",
    "Respond strictly with a JSON array of objects matching this format.\n",
    "\"\"\"\n"
   ],
   "outputs": []
  },
  {
   "cell_type": "code",
   "execution_count": 221,
   "id": "fa215b3d",
   "metadata": {},
   "source": [
    "# Generate prompt and call OpenAI via LangChain\n",
    "def generate_filters_via_openai(top_features_df):\n",
    "    feature_info = format_features(top_features_df)\n",
    "\n",
    "    messages = [\n",
    "    {\n",
    "        \"role\": \"system\",\n",
    "        \"content\": \"You are a travel assistant helping users select destinations. Based on the most informative features and their values from a filtered dataset, generate 5 dynamic filters in JSON format to help users refine their choices. Return exactly 5 filter suggestions in JSON format under a `filters` field.\",\n",
    "    },\n",
    "    {\n",
    "        \"role\": \"user\",\n",
    "        \"content\": PROMPT_TEMPLATE.format(feature_info=feature_info)\n",
    "    },\n",
    "    ]\n",
    "\n",
    "    response = client.responses.parse(\n",
    "        model=\"gpt-4o-mini\",\n",
    "        temperature=0.8,\n",
    "        input=messages,\n",
    "        text_format=FilterSuggestions\n",
    "    )\n",
    "\n",
    "    filters = response.output_parsed.filters\n",
    "\n",
    "    return filters\n",
    "\n",
    "# Usage\n",
    "filters = generate_filters_via_openai(top_features_df)"
   ],
   "outputs": []
  },
  {
   "cell_type": "code",
   "execution_count": 222,
   "id": "a41cbd6b",
   "metadata": {},
   "source": [
    "filters"
   ],
   "outputs": []
  },
  {
   "cell_type": "code",
   "execution_count": null,
   "id": "ee079dc2",
   "metadata": {},
   "source": [],
   "outputs": []
  }
 ],
 "metadata": {
  "kernelspec": {
   "display_name": ".venv",
   "language": "python",
   "name": "python3"
  },
  "language_info": {
   "codemirror_mode": {
    "name": "ipython",
    "version": 3
   },
   "file_extension": ".py",
   "mimetype": "text/x-python",
   "name": "python",
   "nbconvert_exporter": "python",
   "pygments_lexer": "ipython3",
   "version": "3.13.5"
  }
 },
 "nbformat": 4,
 "nbformat_minor": 5
}
