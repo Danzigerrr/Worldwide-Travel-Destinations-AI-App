{
 "cells": [
  {
   "cell_type": "markdown",
   "id": "1665d4a3fa8020e4",
   "metadata": {},
   "source": [
    "# Data Preparation"
   ]
  },
  {
   "cell_type": "markdown",
   "id": "4817a295-6fc3-431a-b589-a47e7e8abf09",
   "metadata": {},
   "source": [
    "## Import libraries"
   ]
  },
  {
   "cell_type": "code",
   "execution_count": 36,
   "id": "06109e54-fd16-4831-81df-8a9ac304d777",
   "metadata": {
    "ExecuteTime": {
     "end_time": "2025-06-26T09:55:04.618350Z",
     "start_time": "2025-06-26T09:55:04.552201Z"
    },
    "scrolled": true
   },
   "outputs": [],
   "source": [
    "from langchain_text_splitters import RecursiveCharacterTextSplitter\n",
    "from langchain_core.documents import Document\n",
    "from langchain.document_loaders import TextLoader\n",
    "from langchain_openai import OpenAIEmbeddings\n",
    "from langchain_community.vectorstores import Chroma\n",
    "from langchain.prompts import ChatPromptTemplate\n",
    "from langchain_openai import ChatOpenAI\n",
    "import openai \n",
    "from dotenv import load_dotenv\n",
    "import shutil\n",
    "import os\n",
    "import csv"
   ]
  },
  {
   "cell_type": "markdown",
   "id": "c5ee838e-085b-4736-8de0-cdc54f10f06f",
   "metadata": {
    "jp-MarkdownHeadingCollapsed": true
   },
   "source": [
    "## Load the data"
   ]
  },
  {
   "cell_type": "code",
   "execution_count": 10,
   "id": "2536bbe6-8558-41b6-b435-63f9a1dff395",
   "metadata": {
    "ExecuteTime": {
     "end_time": "2025-06-26T09:55:04.618350Z",
     "start_time": "2025-06-26T09:55:04.552201Z"
    }
   },
   "outputs": [],
   "source": [
    "DATA_PATH = \"./data/TravelDataset.csv\" # Assuming your CSV is directly in this 'data' directory\n",
    "\n",
    "def read_city_information(headers, row):\n",
    "    # Combine headers with row values to create meaningful content\n",
    "    content_parts = []\n",
    "    row_data = {}\n",
    "    for header, value in zip(headers, row):\n",
    "        header_name = header.replace(\"_\", \" \")\n",
    "        content_parts.append(f\"{header_name}: {value}\")\n",
    "        row_data[header] = value # Store for easy access to city name\n",
    "    \n",
    "    page_content = \"\\n\".join(content_parts)\n",
    "    return page_content, row_data\n",
    "\n",
    "def load_and_process_csv_into_documents(file_path: str) -> list[Document]:\n",
    "    \"\"\"\n",
    "    Loads a CSV file, processes each row, and creates LangChain Document objects.\n",
    "    Each document will represent one city (row), with column names included in the content\n",
    "    and city name in metadata.\n",
    "    \"\"\"\n",
    "    documents = []\n",
    "    headers = []\n",
    "\n",
    "    with open(file_path, 'r', encoding='utf-8') as csvfile:\n",
    "        csv_reader = csv.reader(csvfile)\n",
    "\n",
    "        # Read the header row\n",
    "        try:\n",
    "            headers = next(csv_reader)\n",
    "        except StopIteration:\n",
    "            print(f\"Warning: CSV file '{file_path}' is empty.\")\n",
    "            return []\n",
    "\n",
    "        # Process each data row\n",
    "        for i, row in enumerate(csv_reader):\n",
    "            page_content, row_data = read_city_information(headers, row)\n",
    "\n",
    "            # Extract city name for metadata (assuming 'city' is one of your columns)\n",
    "            city_name = row_data.get('city', 'Unknown City')\n",
    "            document_id = row_data.get('id', None) # Assuming 'id' is a unique identifier\n",
    "\n",
    "            # Create the Document object\n",
    "            metadata = {\n",
    "                \"source_file\": os.path.basename(file_path), # Name of the CSV file\n",
    "                \"row_number\": i + 2, # +2 because of 0-indexed loop and 1-indexed header\n",
    "                \"city_name\": city_name,\n",
    "                \"document_type\": \"city_data\"\n",
    "            }\n",
    "            if document_id:\n",
    "                metadata[\"id\"] = document_id # Add the ID if it exists and is useful\n",
    "\n",
    "            doc = Document(\n",
    "                page_content=page_content,\n",
    "                metadata=metadata\n",
    "            )\n",
    "            documents.append(doc)\n",
    "\n",
    "    return documents"
   ]
  },
  {
   "cell_type": "code",
   "execution_count": 11,
   "id": "f86a2b5c-5010-49bd-b54f-1c89ea70d11a",
   "metadata": {},
   "outputs": [],
   "source": [
    "processed_documents = load_and_process_csv_into_documents(DATA_PATH)"
   ]
  },
  {
   "cell_type": "code",
   "execution_count": 12,
   "id": "db8c7e2c-f6fb-4e91-9ea6-3babe40e8647",
   "metadata": {},
   "outputs": [],
   "source": [
    "def display_documents_info(documents: list[Document], num_to_display: int = 3):\n",
    "    \"\"\"\n",
    "    Prints information about the generated documents (chunks).\n",
    "    \"\"\"\n",
    "    print(f\"Total documents (chunks) created: {len(documents)}\")\n",
    "    for i, doc in enumerate(documents):\n",
    "        if i >= num_to_display:\n",
    "            break\n",
    "        print(f\"\\n--- Chunk {i+1} ---\")\n",
    "        print(f\"Content:\\n{doc.page_content}\")\n",
    "        print(f\"Metadata: {doc.metadata}\")\n",
    "    if len(documents) > num_to_display:\n",
    "        print(f\"\\n... (displaying first {num_to_display} chunks only)\")\n"
   ]
  },
  {
   "cell_type": "code",
   "execution_count": 13,
   "id": "94ebf352645a67f9",
   "metadata": {
    "ExecuteTime": {
     "end_time": "2025-06-26T09:55:06.197982Z",
     "start_time": "2025-06-26T09:55:06.177604Z"
    },
    "scrolled": true
   },
   "outputs": [
    {
     "name": "stdout",
     "output_type": "stream",
     "text": [
      "Total documents (chunks) created: 560\n",
      "\n",
      "--- Chunk 1 ---\n",
      "Content:\n",
      "id: c54acf38-3029-496b-8c7a-8343ad82785c\n",
      "city: Milan\n",
      "country: Italy\n",
      "region: europe\n",
      "short description: Chic streets lined with fashion boutiques, historic architecture, and lively piazzas create a sophisticated yet welcoming atmosphere, perfect for leisurely exploration.\n",
      "latitude: 45.4641943\n",
      "longitude: 9.1896346\n",
      "avg temp monthly: {\"1\":{\"avg\":3.7,\"max\":7.8,\"min\":0.4},\"2\":{\"avg\":7.1,\"max\":12,\"min\":2.8},\"3\":{\"avg\":10.5,\"max\":15.5,\"min\":5.5},\"4\":{\"avg\":13.8,\"max\":18.9,\"min\":8.7},\"5\":{\"avg\":17.9,\"max\":22.5,\"min\":13.4},\"6\":{\"avg\":23.5,\"max\":28.5,\"min\":18.1},\"7\":{\"avg\":25.8,\"max\":30.8,\"min\":20.5},\"8\":{\"avg\":25.2,\"max\":30.4,\"min\":20.2},\"9\":{\"avg\":20.8,\"max\":26,\"min\":16.1},\"10\":{\"avg\":15.2,\"max\":19.6,\"min\":11.5},\"11\":{\"avg\":8.8,\"max\":12.5,\"min\":5.6},\"12\":{\"avg\":4.7,\"max\":8.2,\"min\":1.9}}\n",
      "ideal durations: [\"Short trip\",\"One week\"]\n",
      "budget level: Luxury\n",
      "culture: 5\n",
      "adventure: 2\n",
      "nature: 2\n",
      "beaches: 1\n",
      "nightlife: 4\n",
      "cuisine: 5\n",
      "wellness: 3\n",
      "urban: 5\n",
      "seclusion: 2\n",
      "Metadata: {'source_file': 'TravelDataset.csv', 'row_number': 2, 'city_name': 'Milan', 'document_type': 'city_data', 'id': 'c54acf38-3029-496b-8c7a-8343ad82785c'}\n",
      "\n",
      "--- Chunk 2 ---\n",
      "Content:\n",
      "id: 0bd12654-ed64-424e-a044-7bc574bcf078\n",
      "city: Yasawa Islands\n",
      "country: Fiji\n",
      "region: oceania\n",
      "short description: Crystal-clear waters, secluded beaches, and vibrant coral reefs create a serene paradise perfect for unwinding and immersing in natural beauty.\n",
      "latitude: -17.2909471\n",
      "longitude: 177.12578580330327\n",
      "avg temp monthly: {\"1\":{\"avg\":28,\"max\":30.8,\"min\":25.8},\"2\":{\"avg\":28,\"max\":31.1,\"min\":25.6},\"3\":{\"avg\":26.9,\"max\":31,\"min\":22.8},\"4\":{\"avg\":28,\"max\":31.7,\"min\":26},\"5\":{\"avg\":27.4,\"max\":31,\"min\":23.1},\"6\":{\"avg\":26.2,\"max\":29.7,\"min\":23.7},\"7\":{\"avg\":26.1,\"max\":29.6,\"min\":23.6},\"8\":{\"avg\":25.5,\"max\":29.1,\"min\":23.7},\"9\":{\"avg\":26.3,\"max\":30.4,\"min\":24.5},\"10\":{\"avg\":26,\"max\":30.5,\"min\":19},\"11\":{\"avg\":27.1,\"max\":31,\"min\":24.8},\"12\":{\"avg\":28.2,\"max\":31.9,\"min\":26}}\n",
      "ideal durations: [\"Long trip\",\"One week\"]\n",
      "budget level: Luxury\n",
      "culture: 2\n",
      "adventure: 4\n",
      "nature: 5\n",
      "beaches: 5\n",
      "nightlife: 2\n",
      "cuisine: 3\n",
      "wellness: 4\n",
      "urban: 1\n",
      "seclusion: 5\n",
      "Metadata: {'source_file': 'TravelDataset.csv', 'row_number': 3, 'city_name': 'Yasawa Islands', 'document_type': 'city_data', 'id': '0bd12654-ed64-424e-a044-7bc574bcf078'}\n",
      "\n",
      "--- Chunk 3 ---\n",
      "Content:\n",
      "id: 73036cda-9134-46fc-a2c6-807782d59dfb\n",
      "city: Whistler\n",
      "country: Canada\n",
      "region: north_america\n",
      "short description: Snow-capped peaks and lush forests create a serene escape, where outdoor adventures meet cozy village vibes and crisp mountain air.\n",
      "latitude: 50.1171903\n",
      "longitude: -122.9543022\n",
      "avg temp monthly: {\"1\":{\"avg\":-2.5,\"max\":0.4,\"min\":-5.5},\"2\":{\"avg\":-1.8,\"max\":0.8,\"min\":-7.2},\"3\":{\"avg\":0.2,\"max\":3.5,\"min\":-5},\"4\":{\"avg\":4.6,\"max\":9.1,\"min\":-0.6},\"5\":{\"avg\":9,\"max\":14.4,\"min\":3.4},\"6\":{\"avg\":14.1,\"max\":18.8,\"min\":9.1},\"7\":{\"avg\":18.2,\"max\":23.2,\"min\":13},\"8\":{\"avg\":17.8,\"max\":23.3,\"min\":12.8},\"9\":{\"avg\":14.5,\"max\":19.3,\"min\":9.9},\"10\":{\"avg\":7.6,\"max\":11.6,\"min\":4.4},\"11\":{\"avg\":1.8,\"max\":5.1,\"min\":-1.6},\"12\":{\"avg\":-1.8,\"max\":0.9,\"min\":-2.5}}\n",
      "ideal durations: [\"Short trip\",\"Weekend\",\"One week\"]\n",
      "budget level: Luxury\n",
      "culture: 3\n",
      "adventure: 5\n",
      "nature: 5\n",
      "beaches: 2\n",
      "nightlife: 3\n",
      "cuisine: 3\n",
      "wellness: 4\n",
      "urban: 2\n",
      "seclusion: 4\n",
      "Metadata: {'source_file': 'TravelDataset.csv', 'row_number': 4, 'city_name': 'Whistler', 'document_type': 'city_data', 'id': '73036cda-9134-46fc-a2c6-807782d59dfb'}\n",
      "\n",
      "... (displaying first 3 chunks only)\n"
     ]
    }
   ],
   "source": [
    "display_documents_info(processed_documents, num_to_display=3)"
   ]
  },
  {
   "cell_type": "markdown",
   "id": "f3d63bfa-af89-4ce2-a66c-1e405e37b70b",
   "metadata": {
    "jp-MarkdownHeadingCollapsed": true
   },
   "source": [
    "## Create vector database"
   ]
  },
  {
   "cell_type": "code",
   "execution_count": 14,
   "id": "98ec4df4-40cb-4a03-99ad-768288e37c1d",
   "metadata": {},
   "outputs": [],
   "source": [
    "load_dotenv()\n",
    "openai.api_key = os.environ['OPENAI_API_KEY']"
   ]
  },
  {
   "cell_type": "code",
   "execution_count": 15,
   "id": "47c896cd-9d06-4c23-9f66-fd78fe937a36",
   "metadata": {},
   "outputs": [],
   "source": [
    "embedding_model = \"text-embedding-3-small\"\n",
    "embedding_function = OpenAIEmbeddings(model=embedding_model)"
   ]
  },
  {
   "cell_type": "code",
   "execution_count": 16,
   "id": "c5c64018-a768-4843-93f2-8c08617a2b08",
   "metadata": {},
   "outputs": [],
   "source": [
    "CHROMA_PATH = \"chroma\""
   ]
  },
  {
   "cell_type": "code",
   "execution_count": 17,
   "id": "63d9e53f-403f-4318-bcfe-3ac637133f87",
   "metadata": {},
   "outputs": [],
   "source": [
    "# Clear the previous version of the database\n",
    "if os.path.exists(CHROMA_PATH):\n",
    "    shutil.rmtree(CHROMA_PATH)\n",
    "\n",
    "if not os.path.exists(CHROMA_PATH):\n",
    "    os.makedirs(CHROMA_PATH)"
   ]
  },
  {
   "cell_type": "code",
   "execution_count": 18,
   "id": "e87af614-9c60-44b6-b28c-bf635d3e5886",
   "metadata": {},
   "outputs": [],
   "source": [
    "db = Chroma.from_documents(\n",
    "    processed_documents, embedding_function, persist_directory=CHROMA_PATH\n",
    ")\n",
    "print(f\"Saved {len(processed_documents)} documents to the database {CHROMA_PATH}\")"
   ]
  },
  {
   "cell_type": "markdown",
   "id": "20b4ddfc-5244-4730-81aa-a08c4d53129b",
   "metadata": {},
   "source": [
    "## Query relevant data"
   ]
  },
  {
   "cell_type": "code",
   "execution_count": 21,
   "id": "9b62929f-796e-4ad9-886d-6de0ce52feff",
   "metadata": {},
   "outputs": [],
   "source": [
    "# load the database\n",
    "db = Chroma(persist_directory=CHROMA_PATH, embedding_function=embedding_function)"
   ]
  },
  {
   "cell_type": "code",
   "execution_count": 65,
   "id": "0fa82062-bc0a-4f60-8b45-da92aed90bfb",
   "metadata": {},
   "outputs": [],
   "source": [
    "query_text = \"What are the most beautiful destinations I could travel to considering the architecture?\""
   ]
  },
  {
   "cell_type": "code",
   "execution_count": 66,
   "id": "1a89fe13-3617-4e40-b787-0e34d692ff3c",
   "metadata": {},
   "outputs": [],
   "source": [
    "results = db.similarity_search_with_relevance_scores(query_text, k=3)\n"
   ]
  },
  {
   "cell_type": "code",
   "execution_count": 67,
   "id": "ce1d9971-a3a1-4a8d-bf63-0145a76638ee",
   "metadata": {
    "editable": true,
    "scrolled": true,
    "slideshow": {
     "slide_type": ""
    },
    "tags": []
   },
   "outputs": [
    {
     "name": "stdout",
     "output_type": "stream",
     "text": [
      "Results:\n",
      "\n",
      "score: 0.17251878489324635\n",
      ", the city: page_content='id: 784d64bc-ad12-4648-8094-07151548001d\n",
      "city: Vienna\n",
      "country: Austria\n",
      "region: europe\n",
      "short description: Grand architecture and cobblestone streets set a charming backdrop for cozy coffeehouses and vibrant cultural scenes, inviting leisurely exploration.\n",
      "latitude: 48.2083537\n",
      "longitude: 16.3725042\n",
      "avg temp monthly: {\"1\":{\"avg\":2.5,\"max\":4.7,\"min\":0.5},\"2\":{\"avg\":5,\"max\":7.9,\"min\":2.5},\"3\":{\"avg\":7,\"max\":12.3,\"min\":3.6},\"4\":{\"avg\":12,\"max\":16.7,\"min\":7.8},\"5\":{\"avg\":16.2,\"max\":20.6,\"min\":12.2},\"6\":{\"avg\":21.6,\"max\":26.6,\"min\":16.9},\"7\":{\"avg\":23.3,\"max\":28.2,\"min\":18.7},\"8\":{\"avg\":23,\"max\":27.8,\"min\":18.7},\"9\":{\"avg\":18,\"max\":22.3,\"min\":14.3},\"10\":{\"avg\":12.7,\"max\":16.1,\"min\":10},\"11\":{\"avg\":7.3,\"max\":9.7,\"min\":5.2},\"12\":{\"avg\":3.9,\"max\":6,\"min\":2}}\n",
      "ideal durations: [\"One week\",\"Short trip\",\"Weekend\"]\n",
      "budget level: Mid-range\n",
      "culture: 5\n",
      "adventure: 2\n",
      "nature: 3\n",
      "beaches: 1\n",
      "nightlife: 4\n",
      "cuisine: 5\n",
      "wellness: 4\n",
      "urban: 5\n",
      "seclusion: 2' metadata={'row_number': 287, 'id': '784d64bc-ad12-4648-8094-07151548001d', 'document_type': 'city_data', 'source_file': 'TravelDataset.csv', 'city_name': 'Vienna'}\n",
      "--------\n",
      "\n",
      "score: 0.12727532312855994\n",
      ", the city: page_content='id: 5e7318b5-3cc9-462e-b9df-7c6f7bec1885\n",
      "city: Moscow\n",
      "country: Russia\n",
      "region: asia\n",
      "short description: Grand architecture, vibrant streets, and a rich cultural tapestry create a dynamic atmosphere where history and modern life intertwine seamlessly.\n",
      "latitude: 55.625578\n",
      "longitude: 37.6063916\n",
      "avg temp monthly: {\"1\":{\"avg\":-5.8,\"max\":-3.7,\"min\":-8.1},\"2\":{\"avg\":-4.5,\"max\":-1.9,\"min\":-7.2},\"3\":{\"avg\":-0.1,\"max\":3.6,\"min\":-3.9},\"4\":{\"avg\":7.1,\"max\":11.8,\"min\":2.4},\"5\":{\"avg\":12.9,\"max\":18.1,\"min\":7.5},\"6\":{\"avg\":18.5,\"max\":22.9,\"min\":12.4},\"7\":{\"avg\":19.3,\"max\":24.1,\"min\":14.5},\"8\":{\"avg\":18.8,\"max\":23.7,\"min\":13.6},\"9\":{\"avg\":12.8,\"max\":17.5,\"min\":8.8},\"10\":{\"avg\":6.4,\"max\":9.4,\"min\":3.3},\"11\":{\"avg\":0.2,\"max\":2,\"min\":-1.8},\"12\":{\"avg\":-3.5,\"max\":-1.7,\"min\":-5.4}}\n",
      "ideal durations: [\"One week\",\"Short trip\"]\n",
      "budget level: Mid-range\n",
      "culture: 5\n",
      "adventure: 3\n",
      "nature: 2\n",
      "beaches: 1\n",
      "nightlife: 4\n",
      "cuisine: 4\n",
      "wellness: 3\n",
      "urban: 5\n",
      "seclusion: 2' metadata={'city_name': 'Moscow', 'row_number': 459, 'id': '5e7318b5-3cc9-462e-b9df-7c6f7bec1885', 'source_file': 'TravelDataset.csv', 'document_type': 'city_data'}\n",
      "--------\n",
      "\n",
      "score: 0.11659227714280662\n",
      ", the city: page_content='id: 9a4f8eec-e269-42bb-96bd-4c0e0a82df57\n",
      "city: Frankfurt\n",
      "country: Germany\n",
      "region: europe\n",
      "short description: Skyscrapers and historic charm blend seamlessly, offering a dynamic cityscape where modernity meets tradition, all underlined by a vibrant cultural scene.\n",
      "latitude: 50.1106444\n",
      "longitude: 8.6820917\n",
      "avg temp monthly: {\"1\":{\"avg\":3.6,\"max\":5.8,\"min\":1.3},\"2\":{\"avg\":4.9,\"max\":8.2,\"min\":1.9},\"3\":{\"avg\":7.8,\"max\":12.2,\"min\":3.7},\"4\":{\"avg\":11.3,\"max\":16.7,\"min\":6.1},\"5\":{\"avg\":15.5,\"max\":20.9,\"min\":10.3},\"6\":{\"avg\":20.1,\"max\":25.7,\"min\":14.7},\"7\":{\"avg\":21.4,\"max\":27.2,\"min\":16.1},\"8\":{\"avg\":21.3,\"max\":27.1,\"min\":16.1},\"9\":{\"avg\":16.9,\"max\":22.4,\"min\":12.2},\"10\":{\"avg\":12,\"max\":16,\"min\":8.5},\"11\":{\"avg\":7,\"max\":9.7,\"min\":4.5},\"12\":{\"avg\":4.8,\"max\":6.8,\"min\":2.8}}\n",
      "ideal durations: [\"Short trip\",\"One week\",\"Weekend\"]\n",
      "budget level: Mid-range\n",
      "culture: 4\n",
      "adventure: 2\n",
      "nature: 3\n",
      "beaches: 1\n",
      "nightlife: 4\n",
      "cuisine: 4\n",
      "wellness: 3\n",
      "urban: 5\n",
      "seclusion: 2' metadata={'source_file': 'TravelDataset.csv', 'id': '9a4f8eec-e269-42bb-96bd-4c0e0a82df57', 'document_type': 'city_data', 'row_number': 438, 'city_name': 'Frankfurt'}\n",
      "--------\n",
      "\n"
     ]
    }
   ],
   "source": [
    "if len(results) == 0:\n",
    "    print(\"Unable to find any matching results\")\n",
    "else:\n",
    "    print(\"Results:\\n\")\n",
    "    for result in results:\n",
    "        print(f\"score: {result[1]}\\n, the city: {result[0]}\\n--------\\n\")"
   ]
  },
  {
   "cell_type": "markdown",
   "id": "90fd1f1d-b1d4-4d7a-b58d-b01bbd790a61",
   "metadata": {},
   "source": [
    "## Craft response"
   ]
  },
  {
   "cell_type": "code",
   "execution_count": 68,
   "id": "ac2f167a-e5e3-44a1-a4e6-f120a653ebeb",
   "metadata": {},
   "outputs": [],
   "source": [
    "PROMPT_TEMPLATE = \"\"\"\n",
    "Answer the following question about travelling {query} based on the following context:\n",
    "{context}\n",
    "\"\"\""
   ]
  },
  {
   "cell_type": "code",
   "execution_count": 69,
   "id": "715b563a-90d7-47e1-b9f8-8aaba171d07d",
   "metadata": {},
   "outputs": [],
   "source": [
    "context_text = \"\\n\\n---\\n\\n\".join([doc.page_content for doc, _score in results])\n",
    "prompt_template = ChatPromptTemplate.from_template(PROMPT_TEMPLATE)\n",
    "prompt = prompt_template.format(query=query_text, context=context_text)"
   ]
  },
  {
   "cell_type": "code",
   "execution_count": 70,
   "id": "20f646ce-b64a-4f7b-ba04-3e177b7da34e",
   "metadata": {},
   "outputs": [],
   "source": [
    "model = ChatOpenAI(model=\"gpt-4o-mini\")\n",
    "response_text = model.invoke(prompt)"
   ]
  },
  {
   "cell_type": "code",
   "execution_count": 82,
   "id": "c3526170-3f64-4a27-a29c-1593e3e7397f",
   "metadata": {},
   "outputs": [
    {
     "name": "stdout",
     "output_type": "stream",
     "text": [
      "Response: Considering architecture as the main focus of your travels, here are three beautiful destinations you could consider:\n",
      "\n",
      "1. **Vienna, Austria**  \n",
      "   - **Description**: Known for its grand architecture and charming cobblestone streets, Vienna offers a cozy atmosphere with vibrant cultural scenes and numerous coffeehouses. The city's rich history is reflected in its stunning buildings, including the Schönbrunn Palace and St. Stephen's Cathedral.\n",
      "   - **Architecture Highlights**: Baroque and Gothic buildings, historic palaces, and modern designs coexist beautifully in the urban landscape.\n",
      "\n",
      "2. **Moscow, Russia**  \n",
      "   - **Description**: Moscow features a dynamic atmosphere where grand architectural landmarks connect history with modern life. The vibrant streets are filled with cultural experiences and stunning structures such as the Red Square, Kremlin, and Saint Basil's Cathedral.\n",
      "   - **Architecture Highlights**: A mix of traditional Russian architecture with modern elements, showcasing the city's rich history and cultural diversity.\n",
      "\n",
      "3. **Frankfurt, Germany**  \n",
      "   - **Description**: Frankfurt uniquely blends skyscrapers with historic charm, creating an engaging cityscape that reflects both modernity and tradition. The city's skyline is marked by innovative architectural designs alongside well-preserved historical buildings.\n",
      "   - **Architecture Highlights**: Historic museums, the Römer, and modern skyscrapers like the Main Tower create a contrasting yet cohesive urban environment.\n",
      "\n",
      "Each of these destinations boasts a distinctive architectural identity, offering plenty of opportunities for exploration and appreciation of beautiful buildings.\n"
     ]
    }
   ],
   "source": [
    "formatted_response = f\"Response: {response_text.content}\"\n",
    "print(formatted_response)"
   ]
  },
  {
   "cell_type": "code",
   "execution_count": 87,
   "id": "a3b0fdd0-2e07-48bc-8569-68122db56251",
   "metadata": {},
   "outputs": [
    {
     "name": "stdout",
     "output_type": "stream",
     "text": [
      "Sources:\n",
      "TravelDataset.csv, City: Vienna, City_id: 784d64bc-ad12-4648-8094-07151548001d\n",
      "TravelDataset.csv, City: Moscow, City_id: 5e7318b5-3cc9-462e-b9df-7c6f7bec1885\n",
      "TravelDataset.csv, City: Frankfurt, City_id: 9a4f8eec-e269-42bb-96bd-4c0e0a82df57\n"
     ]
    }
   ],
   "source": [
    "sources, city_name, city_id = zip(*[(doc.metadata.get(\"source_file\", None), doc.metadata.get(\"city_name\", None), doc.metadata.get(\"id\", None)) for doc, _score in results])\n",
    "\n",
    "formatted_sources = \"Sources:\\n\" + \"\\n\".join(\n",
    "    f\"{source}, City: {city}, City_id: {city_id}\"\n",
    "    for source, city, city_id in zip(sources, city_name, city_id)\n",
    ")\n",
    "\n",
    "print(formatted_sources)"
   ]
  },
  {
   "cell_type": "code",
   "execution_count": null,
   "id": "73c2d8ac-bacb-4d8b-bf0e-e9d7cdc76ec7",
   "metadata": {},
   "outputs": [],
   "source": []
  }
 ],
 "metadata": {
  "kernelspec": {
   "display_name": "Python (myenv)",
   "language": "python",
   "name": "myenv"
  },
  "language_info": {
   "codemirror_mode": {
    "name": "ipython",
    "version": 3
   },
   "file_extension": ".py",
   "mimetype": "text/x-python",
   "name": "python",
   "nbconvert_exporter": "python",
   "pygments_lexer": "ipython3",
   "version": "3.10.12"
  }
 },
 "nbformat": 4,
 "nbformat_minor": 5
}
